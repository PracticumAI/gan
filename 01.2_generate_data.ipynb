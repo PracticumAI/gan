{
 "cells": [
  {
   "cell_type": "markdown",
   "metadata": {},
   "source": [
    "![Practicum AI Logo image](https://github.com/PracticumAI/practicumai.github.io/blob/main/images/logo/PracticumAI_logo_250x50.png?raw=true)\n",
    "***\n",
    "# *Practicum AI:* GAN - Generate Data\n",
    "\n",
    "This exercise adapted from Baig et al. (2020) <i>The Deep Learning Workshop</i> from <a href=\"https://www.packtpub.com/product/the-deep-learning-workshop/9781839219856\">Packt Publishers</a> (Exercise 7.01, page 321)."
   ]
  },
  {
   "cell_type": "markdown",
   "metadata": {},
   "source": [
    "#### 1. Importing the requisite libraries"
   ]
  },
  {
   "cell_type": "code",
   "execution_count": null,
   "metadata": {},
   "outputs": [],
   "source": [
    "# Importing the necessary library packages\n",
    "import numpy as np"
   ]
  },
  {
   "cell_type": "markdown",
   "metadata": {},
   "source": [
    "#### 2. Generate a random number from a normal distribution"
   ]
  },
  {
   "cell_type": "code",
   "execution_count": 3,
   "metadata": {},
   "outputs": [
    {
     "data": {
      "text/plain": [
       "array([1.9143694])"
      ]
     },
     "execution_count": 3,
     "metadata": {},
     "output_type": "execute_result"
    }
   ],
   "source": [
    "\"\"\"\n",
    "Generating a random number from a normal distribution \n",
    "with mean 3 and sd = 1\n",
    "\"\"\"\n",
    "np.random.seed(123)\n",
    "loc = np.random.normal(3,1,1)\n",
    "loc"
   ]
  },
  {
   "cell_type": "markdown",
   "metadata": {},
   "source": [
    "#### 3. Generate a sequence of numbers to the right of midpoint"
   ]
  },
  {
   "cell_type": "code",
   "execution_count": 4,
   "metadata": {},
   "outputs": [],
   "source": [
    "# Generate numbers to right of the mid point - arange (start, end, spacing)\n",
    "xr = np.arange(loc, loc + (0.1 * 64), 0.1)"
   ]
  },
  {
   "cell_type": "markdown",
   "metadata": {},
   "source": [
    "#### 4. Generate a sequence of numbers to the left of midpoint"
   ]
  },
  {
   "cell_type": "code",
   "execution_count": 5,
   "metadata": {},
   "outputs": [],
   "source": [
    "# Generate numbers to left of the random point - arange (start, end, spacing)\n",
    "xl = np.arange(loc - (0.1 * 64), loc, 0.1)"
   ]
  },
  {
   "cell_type": "markdown",
   "metadata": {},
   "source": [
    "#### 5. Concatenate both sequences"
   ]
  },
  {
   "cell_type": "code",
   "execution_count": 7,
   "metadata": {},
   "outputs": [
    {
     "name": "stdout",
     "output_type": "stream",
     "text": [
      "[-4.4856306 -4.3856306 -4.2856306 -4.1856306 -4.0856306 -3.9856306\n",
      " -3.8856306 -3.7856306 -3.6856306 -3.5856306 -3.4856306 -3.3856306\n",
      " -3.2856306 -3.1856306 -3.0856306 -2.9856306 -2.8856306 -2.7856306\n",
      " -2.6856306 -2.5856306 -2.4856306 -2.3856306 -2.2856306 -2.1856306\n",
      " -2.0856306 -1.9856306 -1.8856306 -1.7856306 -1.6856306 -1.5856306\n",
      " -1.4856306 -1.3856306 -1.2856306 -1.1856306 -1.0856306 -0.9856306\n",
      " -0.8856306 -0.7856306 -0.6856306 -0.5856306 -0.4856306 -0.3856306\n",
      " -0.2856306 -0.1856306 -0.0856306  0.0143694  0.1143694  0.2143694\n",
      "  0.3143694  0.4143694  0.5143694  0.6143694  0.7143694  0.8143694\n",
      "  0.9143694  1.0143694  1.1143694  1.2143694  1.3143694  1.4143694\n",
      "  1.5143694  1.6143694  1.7143694  1.8143694  1.9143694  2.0143694\n",
      "  2.1143694  2.2143694  2.3143694  2.4143694  2.5143694  2.6143694\n",
      "  2.7143694  2.8143694  2.9143694  3.0143694  3.1143694  3.2143694\n",
      "  3.3143694  3.4143694  3.5143694  3.6143694  3.7143694  3.8143694\n",
      "  3.9143694  4.0143694  4.1143694  4.2143694  4.3143694  4.4143694\n",
      "  4.5143694  4.6143694  4.7143694  4.8143694  4.9143694  5.0143694\n",
      "  5.1143694  5.2143694  5.3143694  5.4143694  5.5143694  5.6143694\n",
      "  5.7143694  5.8143694  5.9143694  6.0143694  6.1143694  6.2143694\n",
      "  6.3143694  6.4143694  6.5143694  6.6143694  6.7143694  6.8143694\n",
      "  6.9143694  7.0143694  7.1143694  7.2143694  7.3143694  7.4143694\n",
      "  7.5143694  7.6143694  7.7143694  7.8143694  7.9143694  8.0143694\n",
      "  8.1143694  8.2143694]\n"
     ]
    }
   ],
   "source": [
    "# Concatenating both these numbers \n",
    "X1 = np.concatenate((xl,xr))\n",
    "print(X1)"
   ]
  },
  {
   "cell_type": "markdown",
   "metadata": {},
   "source": [
    "#### 6. Generate the second feature as the sine() of the first"
   ]
  },
  {
   "cell_type": "code",
   "execution_count": 8,
   "metadata": {},
   "outputs": [],
   "source": [
    "# Generate second feature\n",
    "X2 = np.sin(X1)"
   ]
  },
  {
   "cell_type": "markdown",
   "metadata": {},
   "source": [
    "#### 7. Plot the distribution"
   ]
  },
  {
   "cell_type": "code",
   "execution_count": 9,
   "metadata": {},
   "outputs": [
    {
     "data": {
      "image/png": "[encoded data removed]",
      "text/plain": [
       "<Figure size 432x288 with 1 Axes>"
      ]
     },
     "metadata": {
      "needs_background": "light"
     },
     "output_type": "display_data"
    }
   ],
   "source": [
    "# Plot the distribution \n",
    "import matplotlib.pyplot as plot\n",
    "\n",
    "plot.plot(X1, X2)\n",
    "plot.xlabel('Data Distribution')\n",
    "plot.ylabel('Sine of data distribution')\n",
    "plot.show()"
   ]
  },
  {
   "cell_type": "markdown",
   "metadata": {},
   "source": [
    "#### 8. Reshape the features"
   ]
  },
  {
   "cell_type": "code",
   "execution_count": 10,
   "metadata": {},
   "outputs": [],
   "source": [
    "# Reshaping the individual data sets\n",
    "X1 = X1.reshape(128,1)\n",
    "X2 = X2.reshape(128,1)"
   ]
  },
  {
   "cell_type": "markdown",
   "metadata": {},
   "source": [
    "#### 9. Concatenate both features to form a single DataFrame"
   ]
  },
  {
   "cell_type": "code",
   "execution_count": 11,
   "metadata": {},
   "outputs": [
    {
     "data": {
      "text/plain": [
       "(128, 2)"
      ]
     },
     "execution_count": 11,
     "metadata": {},
     "output_type": "execute_result"
    }
   ],
   "source": [
    "# Concatenate both features to form the real data set\n",
    "realData = np.concatenate((X1, X2), axis = 1)\n",
    "realData.shape"
   ]
  }
 ],
 "metadata": {
  "kernelspec": {
   "display_name": "Tensorflow-2.4.1",
   "language": "python",
   "name": "tensorflow-2.4.1"
  },
  "language_info": {
   "codemirror_mode": {
    "name": "ipython",
    "version": 3
   },
   "file_extension": ".py",
   "mimetype": "text/x-python",
   "name": "python",
   "nbconvert_exporter": "python",
   "pygments_lexer": "ipython3",
   "version": "3.8.6"
  }
 },
 "nbformat": 4,
 "nbformat_minor": 4
}
