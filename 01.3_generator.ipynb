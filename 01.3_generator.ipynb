{
 "cells": [
  {
   "cell_type": "markdown",
   "metadata": {},
   "source": [
    "![Practicum AI Logo image](https://github.com/PracticumAI/practicumai.github.io/blob/main/images/logo/PracticumAI_logo_250x50.png?raw=true)\n",
    "***\n",
    "# *Practicum AI:* GAN - Generator\n",
    "\n",
    "This exercise was adapted from Baig et al. (2020) <i>The Deep Learning Workshop</i> from <a href=\"https://www.packtpub.com/product/the-deep-learning-workshop/9781839219856\">Packt Publishers</a> (Exercise 7.02, page 328).\n",
    "\n",
    "In this exercise, we will build a generator network. The purpose of the generator is to create a fake data distribution from random noise.  We will do this in three steps:\n",
    "\n",
    "1. Generate random data points as input to the generator.\n",
    "2. Build a six-layer network.\n",
    "3. Test the network and plot the output distribution.\n",
    "\n",
    "To finish this exercise, follow these steps:"
   ]
  },
  {
   "cell_type": "markdown",
   "metadata": {},
   "source": [
    "#### 1. Import the requisite libraries"
   ]
  },
  {
   "cell_type": "code",
   "execution_count": null,
   "metadata": {},
   "outputs": [],
   "source": [
    "# Importing the library packages\n",
    "\n",
    "import tensorflow as tf\n",
    "import numpy as np\n",
    "from numpy.random import randn\n",
    "from tensorflow.keras.models import Sequential\n",
    "from tensorflow.keras.layers import Dense\n",
    "from matplotlib import pyplot"
   ]
  },
  {
   "cell_type": "markdown",
   "metadata": {},
   "source": [
    "#### 2. Define input and output features"
   ]
  },
  {
   "cell_type": "code",
   "execution_count": 3,
   "metadata": {},
   "outputs": [],
   "source": [
    "# Define the input features and output features\n",
    "infeats = 10\n",
    "outfeats = 2"
   ]
  },
  {
   "cell_type": "markdown",
   "metadata": {},
   "source": [
    "We have ten features as input and two features as output. The ten input features are arbitrarily selected. The two output features, on the other hand, are selected because our real dataset contains two features."
   ]
  },
  {
   "cell_type": "markdown",
   "metadata": {},
   "source": [
    "#### 3. Generate a batch of random numbers"
   ]
  },
  {
   "cell_type": "code",
   "execution_count": 4,
   "metadata": {},
   "outputs": [],
   "source": [
    "# Generate a batch of random numbers\n",
    "batch = 128\n",
    "genInput = randn(infeats * batch)"
   ]
  },
  {
   "cell_type": "markdown",
   "metadata": {},
   "source": [
    "For this exercise, we set batch size to 128. Since the input feature size is 10, we will generate 128 * 10 random numbers."
   ]
  },
  {
   "cell_type": "markdown",
   "metadata": {},
   "source": [
    "#### 4. Reshape the random data"
   ]
  },
  {
   "cell_type": "code",
   "execution_count": 5,
   "metadata": {},
   "outputs": [
    {
     "name": "stdout",
     "output_type": "stream",
     "text": [
      "(128, 10)\n"
     ]
    }
   ],
   "source": [
    "# Reshape the data \n",
    "genInput = genInput.reshape(batch,infeats)\n",
    "print(genInput.shape)"
   ]
  },
  {
   "cell_type": "markdown",
   "metadata": {},
   "source": [
    "#### 5. Define the generator network"
   ]
  },
  {
   "cell_type": "code",
   "execution_count": 19,
   "metadata": {},
   "outputs": [],
   "source": [
    "# Defining the Generator model\n",
    "Genmodel = Sequential()\n",
    "\n",
    "Genmodel.add(Dense(32,activation = 'linear', \\\n",
    "                   kernel_initializer = 'he_uniform', input_dim = infeats))\n",
    "\n",
    "Genmodel.add(Dense(32,activation = 'relu', \\\n",
    "                   kernel_initializer = 'he_uniform'))\n",
    "\n",
    "Genmodel.add(Dense(64,activation = 'elu',\\\n",
    "                   kernel_initializer = 'he_uniform'))\n",
    "\n",
    "Genmodel.add(Dense(32,activation = 'elu',\\\n",
    "                   kernel_initializer = 'he_uniform'))\n",
    "\n",
    "Genmodel.add(Dense(32,activation = 'selu',\\\n",
    "                   kernel_initializer = 'he_uniform'))\n",
    "\n",
    "Genmodel.add(Dense(outfeats, activation = 'selu'))\n"
   ]
  },
  {
   "cell_type": "markdown",
   "metadata": {},
   "source": [
    "In the first layer, the input dimensions is set to input features `infeats` which was assigned a value in step 2.  And in the last layer, the output dimensions is set to `outfeats` which was assigned a value in step 2."
   ]
  },
  {
   "cell_type": "markdown",
   "metadata": {},
   "source": [
    "#### 6. View a summary of the model"
   ]
  },
  {
   "cell_type": "code",
   "execution_count": 20,
   "metadata": {},
   "outputs": [
    {
     "name": "stdout",
     "output_type": "stream",
     "text": [
      "Model: \"sequential_6\"\n",
      "_________________________________________________________________\n",
      "Layer (type)                 Output Shape              Param #   \n",
      "=================================================================\n",
      "dense_16 (Dense)             (None, 32)                352       \n",
      "_________________________________________________________________\n",
      "dense_17 (Dense)             (None, 32)                1056      \n",
      "_________________________________________________________________\n",
      "dense_18 (Dense)             (None, 64)                2112      \n",
      "_________________________________________________________________\n",
      "dense_19 (Dense)             (None, 32)                2080      \n",
      "_________________________________________________________________\n",
      "dense_20 (Dense)             (None, 32)                1056      \n",
      "_________________________________________________________________\n",
      "dense_21 (Dense)             (None, 2)                 66        \n",
      "=================================================================\n",
      "Total params: 6,722\n",
      "Trainable params: 6,722\n",
      "Non-trainable params: 0\n",
      "_________________________________________________________________\n"
     ]
    }
   ],
   "source": [
    "# Defining the summary of the network\n",
    "Genmodel.summary()"
   ]
  },
  {
   "cell_type": "markdown",
   "metadata": {},
   "source": [
    "A summary of the model allows us to see the output shapes of each layer. The first hidden layer, for example, has a shape of `(None, 32)`.  So, this layer has 32 neurons.  The `None` in each layer indicates the input batch size.  The number of total trainable parameters in the first layer is 352 and includes both weights and bias.  The weights matrix is 10 x 32 while the number of bias nodes is 1 x 32.  Thus, there are 352 (320 + 32) parameters in total.  This same calculation applies to all subsequent layers.  "
   ]
  },
  {
   "cell_type": "markdown",
   "metadata": {},
   "source": [
    "#### 7. Generate output from the generator network"
   ]
  },
  {
   "cell_type": "code",
   "execution_count": 21,
   "metadata": {},
   "outputs": [
    {
     "data": {
      "text/plain": [
       "(128, 2)"
      ]
     },
     "execution_count": 21,
     "metadata": {},
     "output_type": "execute_result"
    }
   ],
   "source": [
    "# Generating fake samples from network.  The genInput parameter contains the random numbers generated earlier.\n",
    "fakeSamps = Genmodel.predict(genInput)\n",
    "fakeSamps.shape"
   ]
  },
  {
   "cell_type": "markdown",
   "metadata": {},
   "source": [
    "The output from the generator function generates a sample with two features and 128 instances."
   ]
  },
  {
   "cell_type": "markdown",
   "metadata": {},
   "source": [
    "#### 8. Plot the distribution"
   ]
  },
  {
   "cell_type": "code",
   "execution_count": 22,
   "metadata": {},
   "outputs": [
    {
     "data": {
      "image/png": "[encoded data removed]",
      "text/plain": [
       "<Figure size 432x288 with 1 Axes>"
      ]
     },
     "metadata": {
      "needs_background": "light"
     },
     "output_type": "display_data"
    }
   ],
   "source": [
    "# Plotting the fake distribution\n",
    "from matplotlib import pyplot\n",
    "\n",
    "pyplot.scatter(fakeSamps[:,0],fakeSamps[:,1])\n",
    "pyplot.xlabel('Feature 1 of the distribution')\n",
    "pyplot.ylabel('Feature 2 of the distribution')\n",
    "pyplot.show()"
   ]
  },
  {
   "cell_type": "markdown",
   "metadata": {},
   "source": [
    "When plotted, the random data created by the generator looks pretty good.  Now we need to create a discriminator to evaluate the generator's output.  That's what we'll do in our next exercise.\n",
    "\n",
    "#### Summary\n",
    "\n",
    "In this exercise, we created a generator with six layers and then had it create a set of fake samples. But how did we make these network architecture decisions - the number of layers and activation functions?  Interestingly, these choices are usually the byproduct of experimentation, of trial-and-error."
   ]
  }
 ],
 "metadata": {
  "kernelspec": {
   "display_name": "Tensorflow-2.4.1",
   "language": "python",
   "name": "tensorflow-2.4.1"
  },
  "language_info": {
   "codemirror_mode": {
    "name": "ipython",
    "version": 3
   },
   "file_extension": ".py",
   "mimetype": "text/x-python",
   "name": "python",
   "nbconvert_exporter": "python",
   "pygments_lexer": "ipython3",
   "version": "3.8.6"
  }
 },
 "nbformat": 4,
 "nbformat_minor": 4
}
