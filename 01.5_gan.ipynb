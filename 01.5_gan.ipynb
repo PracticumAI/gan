{
 "cells": [
  {
   "cell_type": "markdown",
   "metadata": {},
   "source": [
    "![Practicum AI Logo image](https://github.com/PracticumAI/practicumai.github.io/blob/main/images/logo/PracticumAI_logo_250x50.png?raw=true)\n",
    "***\n",
    "This exercise adapted from Baig et al. (2020) <i>The Deep Learning Workshop</i> from <a href=\"https://www.packtpub.com/product/the-deep-learning-workshop/9781839219856\">Packt Publishers</a> (Exercise 7.04, page 348)."
   ]
  },
  {
   "cell_type": "markdown",
   "metadata": {},
   "source": [
    "<div style=\"padding: 10px;margin-bottom: 20px;border: thin solid #30335D;border-left-width: 10px;background-color: #fff\"><strong>Note:</strong> As this exercise builds on and extends exercise 7.03, these setup sections come from that earlier section. </div>\n"
   ]
  },
  {
   "cell_type": "code",
   "execution_count": null,
   "metadata": {},
   "outputs": [],
   "source": [
    "# Import the required library functions\n",
    "\n",
    "import tensorflow as tf\n",
    "import numpy as np\n",
    "\n",
    "from numpy.random import randn\n",
    "from tensorflow.keras.models import Sequential\n",
    "from tensorflow.keras.layers import Dense\n",
    "from matplotlib import pyplot"
   ]
  },
  {
   "cell_type": "code",
   "execution_count": 2,
   "metadata": {},
   "outputs": [],
   "source": [
    "def realData(loc, batch):\n",
    "    '''Function to generate real samples. '''\n",
    "    \n",
    "    # loc is the random location or mean around which samples are centred\n",
    "    # Generate numbers to right of the random point\n",
    "    xr = np.arange(loc, loc + (0.1 * batch / 2), 0.1)\n",
    "    xr = xr[0:int(batch / 2)]\n",
    "    \n",
    "    # Generate numbers to left of the random point\n",
    "    xl = np.arange(loc - (0.1 * batch / 2), loc, 0.1)\n",
    "    \n",
    "    # Concatenating both these series \n",
    "    X1 = np.concatenate((xl, xr))\n",
    "    \n",
    "    # Second dependent variable\n",
    "    X2 = np.sin(X1)\n",
    "    \n",
    "    # Reshaping both the variables and then concatenating them to an array of independent variables\n",
    "    X1 = X1.reshape(batch, 1)\n",
    "    X2 = X2.reshape(batch, 1)    \n",
    "    X  = np.concatenate((X1, X2),axis = 1)\n",
    "    \n",
    "    # Generating the labels for the real data set which is 'ones'\n",
    "    y = np.ones((batch, 1)) \n",
    "    \n",
    "    return X,y"
   ]
  },
  {
   "cell_type": "code",
   "execution_count": 3,
   "metadata": {},
   "outputs": [],
   "source": [
    "def fakeInputs(batch, infeats):\n",
    "    '''Function to generate inputs for the generator function. '''\n",
    "    \n",
    "    # Sample data points equal to (batch x input feature size) from a random distribution\n",
    "    genInput = randn(infeats * batch)\n",
    "    \n",
    "    # Reshape the input \n",
    "    X = genInput.reshape(batch ,infeats)\n",
    "    \n",
    "    return X"
   ]
  },
  {
   "cell_type": "code",
   "execution_count": 4,
   "metadata": {},
   "outputs": [],
   "source": [
    "def genModel(infeats, outfeats):\n",
    "    '''Function which instantiates the generator model. '''\n",
    "    \n",
    "    # Define and instantiate the Generator model\n",
    "    Genmodel = Sequential()\n",
    "    Genmodel.add(Dense(32,activation = 'linear', kernel_initializer = 'he_uniform', input_dim = infeats))\n",
    "    Genmodel.add(Dense(32,activation = 'relu', kernel_initializer = 'he_uniform'))    \n",
    "    Genmodel.add(Dense(64,activation = 'elu', kernel_initializer = 'he_uniform'))    \n",
    "    Genmodel.add(Dense(32,activation = 'elu', kernel_initializer = 'he_uniform'))    \n",
    "    Genmodel.add(Dense(32,activation = 'selu', kernel_initializer = 'he_uniform'))\n",
    "    Genmodel.add(Dense(outfeats,activation = 'selu'))\n",
    "    \n",
    "    return Genmodel"
   ]
  },
  {
   "cell_type": "code",
   "execution_count": 5,
   "metadata": {},
   "outputs": [],
   "source": [
    "# Function to create fake samples using the generator model\n",
    "def fakedataGenerator(Genmodel, batch,infeats):\n",
    "    ''' Function to create fake samples using the generator model. '''\n",
    "    \n",
    "    # First generate the inputs to the model\n",
    "    genInputs = fakeInputs(batch,infeats)\n",
    "    \n",
    "    # Use these inputs inside the generator model to generate fake distribution\n",
    "    X_fake = Genmodel.predict(genInputs)\n",
    "    \n",
    "    # Generate the labels of fake data set\n",
    "    y_fake = np.zeros((batch,1))\n",
    "    \n",
    "    return X_fake, y_fake"
   ]
  },
  {
   "cell_type": "code",
   "execution_count": 6,
   "metadata": {},
   "outputs": [],
   "source": [
    "# Define the arguments like batch size,input feature size and output feature size\n",
    "\n",
    "batch    = 128\n",
    "infeats  = 10\n",
    "outfeats = 2"
   ]
  },
  {
   "cell_type": "code",
   "execution_count": 7,
   "metadata": {},
   "outputs": [],
   "source": [
    "# Define the discriminator model\n",
    "\n",
    "Discmodel = Sequential()\n",
    "Discmodel.add(Dense(16, activation ='relu', kernel_initializer = 'he_uniform', input_dim = outfeats))\n",
    "Discmodel.add(Dense(16, activation ='relu', kernel_initializer = 'he_uniform'))\n",
    "Discmodel.add(Dense(16, activation ='relu', kernel_initializer = 'he_uniform'))    \n",
    "Discmodel.add(Dense(1, activation ='sigmoid'))\n",
    "\n",
    "# Compiling the model\n",
    "Discmodel.compile(loss='binary_crossentropy',optimizer='adam',metrics=['accuracy']) "
   ]
  },
  {
   "cell_type": "code",
   "execution_count": 8,
   "metadata": {},
   "outputs": [
    {
     "name": "stdout",
     "output_type": "stream",
     "text": [
      "Model: \"sequential\"\n",
      "_________________________________________________________________\n",
      "Layer (type)                 Output Shape              Param #   \n",
      "=================================================================\n",
      "dense (Dense)                (None, 16)                48        \n",
      "_________________________________________________________________\n",
      "dense_1 (Dense)              (None, 16)                272       \n",
      "_________________________________________________________________\n",
      "dense_2 (Dense)              (None, 16)                272       \n",
      "_________________________________________________________________\n",
      "dense_3 (Dense)              (None, 1)                 17        \n",
      "=================================================================\n",
      "Total params: 609\n",
      "Trainable params: 609\n",
      "Non-trainable params: 0\n",
      "_________________________________________________________________\n"
     ]
    }
   ],
   "source": [
    "# Print the summary of the discriminator model\n",
    "\n",
    "Discmodel.summary()"
   ]
  },
  {
   "cell_type": "code",
   "execution_count": 9,
   "metadata": {},
   "outputs": [
    {
     "name": "stdout",
     "output_type": "stream",
     "text": [
      "Model: \"sequential_1\"\n",
      "_________________________________________________________________\n",
      "Layer (type)                 Output Shape              Param #   \n",
      "=================================================================\n",
      "dense_4 (Dense)              (None, 32)                352       \n",
      "_________________________________________________________________\n",
      "dense_5 (Dense)              (None, 32)                1056      \n",
      "_________________________________________________________________\n",
      "dense_6 (Dense)              (None, 64)                2112      \n",
      "_________________________________________________________________\n",
      "dense_7 (Dense)              (None, 32)                2080      \n",
      "_________________________________________________________________\n",
      "dense_8 (Dense)              (None, 32)                1056      \n",
      "_________________________________________________________________\n",
      "dense_9 (Dense)              (None, 2)                 66        \n",
      "=================================================================\n",
      "Total params: 6,722\n",
      "Trainable params: 6,722\n",
      "Non-trainable params: 0\n",
      "_________________________________________________________________\n"
     ]
    }
   ],
   "source": [
    "# Instantiate the generator model by calling the genModel() function.\n",
    "\n",
    "Genmodel = genModel(infeats, outfeats)\n",
    "Genmodel.summary()"
   ]
  },
  {
   "cell_type": "code",
   "execution_count": 22,
   "metadata": {},
   "outputs": [],
   "source": [
    "# Defining the number of epochs\n",
    "\n",
    "nEpochs = 20000"
   ]
  },
  {
   "cell_type": "code",
   "execution_count": 24,
   "metadata": {},
   "outputs": [
    {
     "name": "stdout",
     "output_type": "stream",
     "text": [
      "Real accuracy:0.0,Fake accuracy:0.984375\n",
      "Real accuracy:1.0,Fake accuracy:0.9609375\n",
      "Real accuracy:1.0,Fake accuracy:0.96875\n",
      "Real accuracy:1.0,Fake accuracy:0.984375\n",
      "Real accuracy:1.0,Fake accuracy:0.96875\n"
     ]
    }
   ],
   "source": [
    "# Train the discriminator network\n",
    "for i in range(nEpochs):\n",
    "    \n",
    "    # Generate the random number for generating real samples\n",
    "    loc = np.random.normal(3,1,1)\n",
    "    \n",
    "    # Generate samples equal to the bath size from the real distribution\n",
    "    x_real, y_real = realData(loc, batch)\n",
    "    \n",
    "    # Generate fake samples using the fake data generator function\n",
    "    x_fake, y_fake = fakedataGenerator(Genmodel, batch, infeats)\n",
    "    \n",
    "    # Train the  discriminator on the real samples\n",
    "    Discmodel.train_on_batch(x_real, y_real)\n",
    "    \n",
    "    # Train the discriminator on the fake samples\n",
    "    Discmodel.train_on_batch(x_fake, y_fake)\n",
    "    \n",
    "    # Print the accuracy measures on the real and fake data for every 4000 epochs\n",
    "    if (i) % 4000 == 0:\n",
    "        # Evaluate the real distribution accuracy\n",
    "        _, realAccuracy = Discmodel.evaluate(x_real, y_real, verbose = 0)\n",
    "        \n",
    "        # Evaluate fake distribution accuracy levels\n",
    "        _, fakeAccuracy = Discmodel.evaluate(x_fake, y_fake, verbose = 0)\n",
    "        \n",
    "        print('Real accuracy:{R},Fake accuracy:{F}'.format(R = realAccuracy, F = fakeAccuracy))"
   ]
  },
  {
   "cell_type": "markdown",
   "metadata": {},
   "source": [
    "-----------------------------------------------------------\n",
    "#### Exercise 7.04 (Student)\n"
   ]
  },
  {
   "cell_type": "markdown",
   "metadata": {},
   "source": [
    "<span style=\"color:steelblue\">**(1)**</span>"
   ]
  },
  {
   "cell_type": "code",
   "execution_count": null,
   "metadata": {},
   "outputs": [],
   "source": [
    "# Required libraries imported in the setup section above."
   ]
  },
  {
   "cell_type": "markdown",
   "metadata": {},
   "source": [
    "<span style=\"color:steelblue\">**(2)**</span>"
   ]
  },
  {
   "cell_type": "code",
   "execution_count": null,
   "metadata": {},
   "outputs": [],
   "source": [
    "# Function realData was created in the setup section above."
   ]
  },
  {
   "cell_type": "markdown",
   "metadata": {},
   "source": [
    "<span style=\"color:steelblue\">**(3)**</span>"
   ]
  },
  {
   "cell_type": "code",
   "execution_count": null,
   "metadata": {},
   "outputs": [],
   "source": [
    "# Function fakeInputs was created in the setup section above."
   ]
  },
  {
   "cell_type": "markdown",
   "metadata": {},
   "source": [
    "<span style=\"color:steelblue\">**(4)**</span>"
   ]
  },
  {
   "cell_type": "code",
   "execution_count": null,
   "metadata": {},
   "outputs": [],
   "source": [
    "# Function genModel was created in the setup section above."
   ]
  },
  {
   "cell_type": "markdown",
   "metadata": {},
   "source": [
    "<span style=\"color:steelblue\">**(5)**</span>"
   ]
  },
  {
   "cell_type": "code",
   "execution_count": null,
   "metadata": {},
   "outputs": [],
   "source": [
    "# Function fakedataGenerator was created in the setup section above."
   ]
  },
  {
   "cell_type": "markdown",
   "metadata": {},
   "source": [
    "<span style=\"color:steelblue\">**(6)**</span>"
   ]
  },
  {
   "cell_type": "code",
   "execution_count": null,
   "metadata": {},
   "outputs": [],
   "source": [
    "\"\"\"\n",
    "Define the arguments like batch size,input feature size \n",
    "and output feature size\n",
    "\"\"\"\n",
    "batch = 128\n",
    "infeats = 10\n",
    "outfeats = 2"
   ]
  },
  {
   "cell_type": "markdown",
   "metadata": {},
   "source": [
    "<span style=\"color:steelblue\">**(7)**</span>"
   ]
  },
  {
   "cell_type": "code",
   "execution_count": 10,
   "metadata": {},
   "outputs": [],
   "source": [
    "def discModel(outfeats):\n",
    "    ''' Function which instantiates the discriminator model. '''\n",
    "    Discmodel = Sequential()\n",
    "    Discmodel.add(Dense(16, activation = 'relu',kernel_initializer = 'he_uniform',input_dim=outfeats))\n",
    "    Discmodel.add(Dense(16,activation = 'relu' ,kernel_initializer = 'he_uniform'))\n",
    "    Discmodel.add(Dense(16,activation = 'relu' ,kernel_initializer = 'he_uniform'))    \n",
    "    Discmodel.add(Dense(1,activation = 'sigmoid'))\n",
    "    \n",
    "    # Compiling the model\n",
    "    Discmodel.compile(loss='binary_crossentropy',optimizer='adam',metrics=['accuracy'])    \n",
    "    return Discmodel \n"
   ]
  },
  {
   "cell_type": "markdown",
   "metadata": {},
   "source": [
    "<span style=\"color:steelblue\">**(8)**</span>"
   ]
  },
  {
   "cell_type": "code",
   "execution_count": 11,
   "metadata": {},
   "outputs": [
    {
     "name": "stdout",
     "output_type": "stream",
     "text": [
      "Model: \"sequential_2\"\n",
      "_________________________________________________________________\n",
      "Layer (type)                 Output Shape              Param #   \n",
      "=================================================================\n",
      "dense_10 (Dense)             (None, 16)                48        \n",
      "_________________________________________________________________\n",
      "dense_11 (Dense)             (None, 16)                272       \n",
      "_________________________________________________________________\n",
      "dense_12 (Dense)             (None, 16)                272       \n",
      "_________________________________________________________________\n",
      "dense_13 (Dense)             (None, 1)                 17        \n",
      "=================================================================\n",
      "Total params: 609\n",
      "Trainable params: 609\n",
      "Non-trainable params: 0\n",
      "_________________________________________________________________\n"
     ]
    }
   ],
   "source": [
    "# Print the summary of the discriminator model\n",
    "\n",
    "Discmodel = discModel(outfeats)\n",
    "Discmodel.summary()"
   ]
  },
  {
   "cell_type": "markdown",
   "metadata": {},
   "source": [
    "<span style=\"color:steelblue\">**(9)**</span>"
   ]
  },
  {
   "cell_type": "code",
   "execution_count": 12,
   "metadata": {},
   "outputs": [
    {
     "name": "stdout",
     "output_type": "stream",
     "text": [
      "Model: \"sequential_3\"\n",
      "_________________________________________________________________\n",
      "Layer (type)                 Output Shape              Param #   \n",
      "=================================================================\n",
      "dense_14 (Dense)             (None, 32)                352       \n",
      "_________________________________________________________________\n",
      "dense_15 (Dense)             (None, 32)                1056      \n",
      "_________________________________________________________________\n",
      "dense_16 (Dense)             (None, 64)                2112      \n",
      "_________________________________________________________________\n",
      "dense_17 (Dense)             (None, 32)                2080      \n",
      "_________________________________________________________________\n",
      "dense_18 (Dense)             (None, 32)                1056      \n",
      "_________________________________________________________________\n",
      "dense_19 (Dense)             (None, 2)                 66        \n",
      "=================================================================\n",
      "Total params: 6,722\n",
      "Trainable params: 6,722\n",
      "Non-trainable params: 0\n",
      "_________________________________________________________________\n"
     ]
    }
   ],
   "source": [
    "# Calling the Generator model function\n",
    "\n",
    "Genmodel = genModel(infeats, outfeats)\n",
    "Genmodel.summary()"
   ]
  },
  {
   "cell_type": "markdown",
   "metadata": {},
   "source": [
    "<span style=\"color:steelblue\">**(10)**</span>"
   ]
  },
  {
   "cell_type": "code",
   "execution_count": 14,
   "metadata": {},
   "outputs": [
    {
     "data": {
      "image/png": "[encoded data removed]",
      "text/plain": [
       "<Figure size 432x288 with 1 Axes>"
      ]
     },
     "metadata": {
      "needs_background": "light"
     },
     "output_type": "display_data"
    }
   ],
   "source": [
    "# Let's visualize the initial fake data\n",
    "x_fake, _ = fakedataGenerator(Genmodel, batch, infeats)\n",
    "\n",
    "# Plotting the fake data using pyplot\n",
    "pyplot.scatter(x_fake[:, 0], x_fake[:, 1], color = 'blue')\n",
    "\n",
    "# Adding x and y labels\n",
    "pyplot.xlabel('Feature 1 of the distribution')\n",
    "pyplot.ylabel('Feature 2 of the distribution')\n",
    "pyplot.show()"
   ]
  },
  {
   "cell_type": "markdown",
   "metadata": {},
   "source": [
    "<span style=\"color:steelblue\">**(11)**</span>"
   ]
  },
  {
   "cell_type": "code",
   "execution_count": 14,
   "metadata": {},
   "outputs": [],
   "source": [
    "def ganModel(Genmodel,Discmodel):\n",
    "    ''' Function which instantiates the GAN model.'''\n",
    "    \n",
    "    # First define that discriminator model cannot be trained\n",
    "    Discmodel.trainable = False\n",
    "    Ganmodel = Sequential()\n",
    "    \n",
    "    # First adding the generator model\n",
    "    Ganmodel.add(Genmodel)\n",
    "    \n",
    "    # Next adding the discriminator model without training the parameters\n",
    "    Ganmodel.add(Discmodel)\n",
    "    \n",
    "    # Compile the model for loss to optimise the Generator model\n",
    "    Ganmodel.compile(loss='binary_crossentropy',optimizer = 'adam')  \n",
    "    \n",
    "    return Ganmodel"
   ]
  },
  {
   "cell_type": "markdown",
   "metadata": {},
   "source": [
    "<span style=\"color:steelblue\">**(12)**</span>"
   ]
  },
  {
   "cell_type": "code",
   "execution_count": 15,
   "metadata": {},
   "outputs": [],
   "source": [
    "# Initialise the gan model\n",
    "gan_model = ganModel(Genmodel,Discmodel)"
   ]
  },
  {
   "cell_type": "markdown",
   "metadata": {},
   "source": [
    "<span style=\"color:steelblue\">**(13)**</span>"
   ]
  },
  {
   "cell_type": "code",
   "execution_count": 16,
   "metadata": {},
   "outputs": [
    {
     "name": "stdout",
     "output_type": "stream",
     "text": [
      "Model: \"sequential_4\"\n",
      "_________________________________________________________________\n",
      "Layer (type)                 Output Shape              Param #   \n",
      "=================================================================\n",
      "sequential_3 (Sequential)    (None, 2)                 6722      \n",
      "_________________________________________________________________\n",
      "sequential_2 (Sequential)    (None, 1)                 609       \n",
      "=================================================================\n",
      "Total params: 7,331\n",
      "Trainable params: 6,722\n",
      "Non-trainable params: 609\n",
      "_________________________________________________________________\n"
     ]
    }
   ],
   "source": [
    "# Print summary of the GAN model\n",
    "gan_model.summary()"
   ]
  },
  {
   "cell_type": "markdown",
   "metadata": {},
   "source": [
    "<span style=\"color:steelblue\">**(14)**</span>"
   ]
  },
  {
   "cell_type": "code",
   "execution_count": 21,
   "metadata": {},
   "outputs": [],
   "source": [
    "# Defining the number of epochs\n",
    "nEpochs = 20000"
   ]
  },
  {
   "cell_type": "markdown",
   "metadata": {},
   "source": [
    "<span style=\"color:steelblue\">**(15)**</span>"
   ]
  },
  {
   "cell_type": "code",
   "execution_count": 22,
   "metadata": {},
   "outputs": [
    {
     "name": "stdout",
     "output_type": "stream",
     "text": [
      "Real accuracy:0.5625,Fake accuracy:0.796875\n",
      "Real accuracy:0.3203125,Fake accuracy:1.0\n",
      "Real accuracy:0.5703125,Fake accuracy:0.890625\n",
      "Real accuracy:0.3203125,Fake accuracy:0.7734375\n",
      "Real accuracy:0.3125,Fake accuracy:0.8828125\n",
      "Real accuracy:0.3125,Fake accuracy:0.953125\n",
      "Real accuracy:0.375,Fake accuracy:0.890625\n",
      "Real accuracy:0.40625,Fake accuracy:0.9453125\n",
      "Real accuracy:0.4453125,Fake accuracy:0.90625\n",
      "Real accuracy:0.390625,Fake accuracy:0.9296875\n"
     ]
    }
   ],
   "source": [
    "# Train the GAN network\n",
    "for i in range(nEpochs):\n",
    "    # Generate the random number for generating real samples\n",
    "    loc = np.random.normal(3,1,1)\n",
    "    \n",
    "    # Generate samples equal to the bath size from the real distribution\n",
    "    x_real, y_real = realData(loc,batch)\n",
    "    \n",
    "    # Generate fake samples using the fake data generator function\n",
    "    x_fake, y_fake = fakedataGenerator(Genmodel,batch,infeats)\n",
    "    \n",
    "    # Train the  discriminator on the real samples\n",
    "    Discmodel.train_on_batch(x_real, y_real)\n",
    "    \n",
    "    # Train the discriminator on the fake samples\n",
    "    Discmodel.train_on_batch(x_fake, y_fake)\n",
    "    \n",
    "    # Generate new fake inputs for training the GAN network\n",
    "    x_gan = fakeInputs(batch, infeats)\n",
    "    \n",
    "    # Create labels of the fake examples as 1 to fool the discriminator\n",
    "    y_gan = np.ones((batch, 1))\n",
    "    \n",
    "    # Update the generator model through the discriminator model\n",
    "    gan_model.train_on_batch(x_gan, y_gan)\n",
    "    \n",
    "    # Print the accuracy measures on the real and fake data for every 2000 epochs\n",
    "    if (i) % 2000 == 0:\n",
    "        # Generate samples equal to the bath size from the real distribution\n",
    "        x_real, y_real = realData(loc,batch)\n",
    "        \n",
    "        # Evaluate Real distribution accuracy\n",
    "        _, realAccuracy = Discmodel.evaluate(x_real, y_real, verbose = 0)\n",
    "        \n",
    "        # Generate fake samples using the fake data generator function\n",
    "        x_fake,y_fake = fakedataGenerator(Genmodel,batch,infeats)\n",
    "        \n",
    "        # Evaluate fake distribution accuracy levels\n",
    "        _, fakeAccuracy = Discmodel.evaluate(x_fake, y_fake, verbose = 0)\n",
    "        \n",
    "        print('Real accuracy:{R},Fake accuracy:{F}'.format(R = realAccuracy, F = fakeAccuracy))\n",
    "        \n",
    "        # Scatter plot real and fake data points\n",
    "        pyplot.scatter(x_real[:, 0], x_real[:, 1], color = 'red')\n",
    "        pyplot.scatter(x_fake[:, 0], x_fake[:, 1], color = 'blue')\n",
    "        pyplot.xlabel('Feature 1 of the distribution')\n",
    "        pyplot.ylabel('Feature 2 of the distribution')\n",
    "        \n",
    "        # Save plot to file\n",
    "        filename = 'GAN_Training_Plot%03d.png' % (i)\n",
    "        pyplot.savefig(filename)\n",
    "        pyplot.close()"
   ]
  }
 ],
 "metadata": {
  "kernelspec": {
   "display_name": "Tensorflow-2.4.1",
   "language": "python",
   "name": "tensorflow-2.4.1"
  },
  "language_info": {
   "codemirror_mode": {
    "name": "ipython",
    "version": 3
   },
   "file_extension": ".py",
   "mimetype": "text/x-python",
   "name": "python",
   "nbconvert_exporter": "python",
   "pygments_lexer": "ipython3",
   "version": "3.8.6"
  }
 },
 "nbformat": 4,
 "nbformat_minor": 4
}
