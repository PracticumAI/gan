{
 "cells": [
  {
   "cell_type": "markdown",
   "metadata": {},
   "source": [
    "![Practicum AI Logo image](https://github.com/PracticumAI/practicumai.github.io/blob/main/images/logo/PracticumAI_logo_250x50.png?raw=true)\n",
    "***\n",
    "# *Practicum AI:* GAN - Gaussian GAN\n",
    "\n",
    "This exercise adapted from Andrew Glassner's book: *Deep Learning: A Visual Approach (Chapter 22)* from [No Starch Press](https://nostarch.com/deep-learning-visual-approach).  Please see copyright notice at the end of this notebook."
   ]
  },
  {
   "cell_type": "markdown",
   "metadata": {},
   "source": [
    "2D Gaussian GAN adapted from https://github.com/EmilienDupont/generative-adversarial-network/blob/master/generative_adversarial_network.py"
   ]
  },
  {
   "cell_type": "code",
   "execution_count": 2,
   "metadata": {},
   "outputs": [],
   "source": [
    "from tensorflow.keras.layers import Dense, Input\n",
    "from tensorflow.keras.models import Model\n",
    "from tensorflow.keras.optimizers import Adam\n",
    "from keras.layers.core import Activation\n",
    "from keras.layers.advanced_activations import LeakyReLU\n",
    "\n",
    "import numpy as np\n",
    "import matplotlib.pyplot as plt\n",
    "import matplotlib.patches as patches"
   ]
  },
  {
   "cell_type": "code",
   "execution_count": 3,
   "metadata": {},
   "outputs": [],
   "source": [
    "# Make a File_Helper for saving and loading files.\n",
    "\n",
    "save_files = False\n",
    "\n",
    "import os, sys, inspect\n",
    "current_dir = os.path.dirname(os.path.abspath(inspect.getfile(inspect.currentframe())))\n",
    "sys.path.insert(0, os.path.dirname(current_dir)) # path to parent dir\n",
    "\n",
    "from dl_basics_utilities import File_Helper\n",
    "file_helper = File_Helper(save_files)"
   ]
  },
  {
   "cell_type": "code",
   "execution_count": 4,
   "metadata": {},
   "outputs": [],
   "source": [
    "data_dimensions = 2\n",
    "noise_dimensions = 4\n",
    "random_seed = 42\n",
    "\n",
    "# Training parameters\n",
    "batch_size = 32                                        # Originally 32\n",
    "number_of_examples = 10000\n",
    "number_of_batches = int(number_of_examples / batch_size)"
   ]
  },
  {
   "cell_type": "code",
   "execution_count": 5,
   "metadata": {},
   "outputs": [],
   "source": [
    "def make_generator(dense_list):\n",
    "    generator_input = Input(shape=(noise_dimensions,))\n",
    "    generator_dense_layers = []\n",
    "    generator_activation_layers = []\n",
    "    for i in range(len(dense_list)):\n",
    "        if i==0:\n",
    "            generator_dense_layers.append(Dense(dense_list[i])(generator_input))\n",
    "        else:\n",
    "            generator_dense_layers.append(Dense(dense_list[i])(generator_activation_layers[i-1]))\n",
    "        generator_activation_layers.append(LeakyReLU(0.1)(generator_dense_layers[i]))\n",
    "\n",
    "    generator_output = Dense(data_dimensions)(generator_activation_layers[len(dense_list)-1])\n",
    "\n",
    "    generator = Model(inputs=generator_input, outputs=generator_output)\n",
    "    # Generator loss does not matter, as generator will only be trained through GAN\n",
    "    generator.compile(loss='mse', optimizer='adam')\n",
    "    return generator"
   ]
  },
  {
   "cell_type": "code",
   "execution_count": 6,
   "metadata": {},
   "outputs": [],
   "source": [
    "def make_discriminator(dense_list):\n",
    "    discriminator_input = Input(shape=(data_dimensions,))\n",
    "    discriminator_dense_layers = []\n",
    "    discriminator_activation_layers = []\n",
    "    for i in range(len(dense_list)):\n",
    "        if i==0:\n",
    "            discriminator_dense_layers.append(Dense(dense_list[i])(discriminator_input))\n",
    "        else:\n",
    "            discriminator_dense_layers.append(Dense(dense_list[i])(discriminator_activation_layers[i-1]))\n",
    "        discriminator_activation_layers.append(LeakyReLU(0.1)(discriminator_dense_layers[i]))\n",
    "\n",
    "    discriminator_output = Dense(1, activation='sigmoid')(discriminator_activation_layers[len(dense_list)-1])\n",
    "\n",
    "    discriminator = Model(inputs=discriminator_input, outputs=discriminator_output)\n",
    "    discriminator.compile(loss='binary_crossentropy', optimizer='adam')\n",
    "    return (discriminator)"
   ]
  },
  {
   "cell_type": "code",
   "execution_count": 7,
   "metadata": {},
   "outputs": [],
   "source": [
    "def make_gan(generator, discriminator):\n",
    "    # The 'trainable\" stuff is a bit subtle. To apply it to a model, we set it\n",
    "    # for the model and then compile it. The result is that when we manipulate\n",
    "    # that model (e.g., fitting it), the layers in the model will not update. But\n",
    "    # if those layers are shared with other models, and their 'trainable' flag\n",
    "    # was left to True, then they WILL update when we use those models. So the\n",
    "    # 'trainable' flag for a model might better be named 'trainable_within_this_model'.\n",
    "    # Here, we build the GAN so that when it runs, the generator learns, but the\n",
    "    # discriminator does not. This is because the generator needs to use the output\n",
    "    # of the discriminator, so we lock it down when the generator is learning. Then\n",
    "    # we update the discriminator in its own step, using a 'trainable=True' model.\n",
    "    discriminator.trainable = False \n",
    "    gan_input = Input(shape=(noise_dimensions,))\n",
    "    gan_layer = generator(gan_input)\n",
    "    gan_output = discriminator(gan_layer)\n",
    "    gan = Model(inputs=gan_input, outputs=gan_output)\n",
    "    gan.compile(loss='binary_crossentropy', optimizer=Adam(learning_rate = 2e-4))\n",
    "    discriminator.trainable = True\n",
    "    return(gan)"
   ]
  },
  {
   "cell_type": "code",
   "execution_count": 8,
   "metadata": {},
   "outputs": [],
   "source": [
    "# The real data we're comparing to\n",
    "def get_real_data():\n",
    "    real_data = np.random.normal(5, 1, (number_of_examples, data_dimensions))\n",
    "    return real_data"
   ]
  },
  {
   "cell_type": "code",
   "execution_count": 9,
   "metadata": {},
   "outputs": [],
   "source": [
    "def get_batch_of_normal_noise(mean=0, std=1, shape=(batch_size, noise_dimensions)):\n",
    "    return np.random.normal(mean, std, shape)"
   ]
  },
  {
   "cell_type": "code",
   "execution_count": 10,
   "metadata": {},
   "outputs": [],
   "source": [
    "def train_discriminator(discriminator, batch_of_data, label):\n",
    "    if label == 0:\n",
    "        labels = np.zeros(batch_size).astype(int)\n",
    "    else:\n",
    "        labels = np.ones(batch_size).astype(int)\n",
    "    discriminator_loss = discriminator.train_on_batch(batch_of_data, labels)\n",
    "    return discriminator_loss"
   ]
  },
  {
   "cell_type": "code",
   "execution_count": 11,
   "metadata": {},
   "outputs": [],
   "source": [
    "def train_generator(gan):\n",
    "    noise_batch = get_batch_of_normal_noise()\n",
    "    labels = np.ones(batch_size).astype(int)\n",
    "    gan_loss = gan.train_on_batch(noise_batch, labels)\n",
    "    return gan_loss"
   ]
  },
  {
   "cell_type": "code",
   "execution_count": 12,
   "metadata": {},
   "outputs": [],
   "source": [
    "def pre_train_discriminator(discriminator, generator, real_data):\n",
    "    shuffled_data = np.random.permutation(real_data)\n",
    "    for batch in range(number_of_batches):\n",
    "        # first train on a batch of real data\n",
    "        batch_of_data = shuffled_data[batch * batch_size: (batch + 1) * batch_size]\n",
    "        train_discriminator(discriminator, batch_of_data, 1)\n",
    "        # now train on a batch of fake data\n",
    "        noise_batch = get_batch_of_normal_noise()\n",
    "        batch_of_data = generator.predict(noise_batch)\n",
    "        train_discriminator(discriminator, batch_of_data, 0)"
   ]
  },
  {
   "cell_type": "code",
   "execution_count": 13,
   "metadata": {},
   "outputs": [],
   "source": [
    "def train_gan_one_epoch(gan, generator, discriminator, real_data):\n",
    "    shuffled_data = np.random.permutation(real_data)\n",
    "    for batch in range(number_of_batches):\n",
    "        # discriminator with real data\n",
    "        batch_of_data = shuffled_data[batch * batch_size: (batch + 1) * batch_size]\n",
    "        train_discriminator(discriminator, batch_of_data, 1)\n",
    "        # generator\n",
    "        gan_loss = train_generator(gan)\n",
    "        # disriminator with fake data\n",
    "        noise_batch = get_batch_of_normal_noise()\n",
    "        batch_of_data = generator.predict(noise_batch)\n",
    "        discriminator_loss = train_discriminator(discriminator, batch_of_data, 0)\n",
    "        # generator\n",
    "        gan_loss = train_generator(gan)\n",
    "    return((gan_loss, discriminator_loss))"
   ]
  },
  {
   "cell_type": "code",
   "execution_count": 14,
   "metadata": {},
   "outputs": [],
   "source": [
    "def plot_fake_and_real_data(fig, data, generator, num_points=256):\n",
    "    \"\"\" \n",
    "    Multi-line documentation for plot_fake_and_real_data()\n",
    "    \"\"\"\n",
    "    ax = fig.gca()\n",
    "    ax.axis('equal')\n",
    "\n",
    "    noise_batch = get_batch_of_normal_noise(shape=(num_points, noise_dimensions))\n",
    "    fake_data_batch = generator.predict(noise_batch)\n",
    "    data_batch = data[np.random.randint(number_of_examples, size=num_points)]\n",
    "    \n",
    "    fake_mean_x = np.mean(fake_data_batch[:,0])\n",
    "    fake_mean_y = np.mean(fake_data_batch[:,1])\n",
    "    fake_std_x  = np.std(fake_data_batch[:,0])\n",
    "    fake_std_y  = np.std(fake_data_batch[:,1])\n",
    "    \n",
    "    mean_x = np.mean(data_batch[:,0])\n",
    "    mean_y = np.mean(data_batch[:,1])\n",
    "    std_x  = np.std(data_batch[:,0])\n",
    "    std_y  = np.std(data_batch[:,1])\n",
    "    \n",
    "    blue_color = '#2578c7'\n",
    "    orange_color = '#fca429'\n",
    "\n",
    "    c = patches.Ellipse((mean_x, mean_y), 2*std_x, 2*std_y, \\\n",
    "                        edgecolor=blue_color, fill=False, linewidth=5)\n",
    "    ax.add_patch(c)\n",
    "    c = patches.Ellipse((mean_x, mean_y), 2*std_x, 2*std_y, \\\n",
    "                        edgecolor='black', fill=False, linewidth=1)\n",
    "    ax.add_patch(c)\n",
    "    c = patches.Ellipse((fake_mean_x, fake_mean_y), 2*fake_std_x, 2*fake_std_y, \\\n",
    "                        edgecolor=orange_color, fill=False, linewidth=5)\n",
    "    ax.add_patch(c)\n",
    "    c = patches.Ellipse((fake_mean_x, fake_mean_y), 2*fake_std_x, 2*fake_std_y, \\\n",
    "                        edgecolor='black', fill=False, linewidth=1)\n",
    "    ax.add_patch(c)\n",
    "    \n",
    "    ax.scatter(fake_data_batch[:,0],fake_data_batch[:,1], edgecolor='None', c=orange_color, alpha=0.3)\n",
    "    ax.scatter(data_batch[:,0], data_batch[:,1], edgecolor='None', c=blue_color, alpha=0.3)"
   ]
  },
  {
   "cell_type": "code",
   "execution_count": 15,
   "metadata": {},
   "outputs": [],
   "source": [
    "def get_models():\n",
    "    generator = make_generator((16,))\n",
    "    discriminator = make_discriminator((16,16))\n",
    "    gan = make_gan(generator, discriminator)\n",
    "    return (generator, discriminator, gan)"
   ]
  },
  {
   "cell_type": "markdown",
   "metadata": {},
   "source": [
    "<div style=\"padding: 10px;margin-bottom: 20px;border:  thin solid #30335D; border-left-width: 10px;background-color: #fff\"><strong>Note:</strong> You can change the number_of_epochs variable in the block below. </div>"
   ]
  },
  {
   "cell_type": "code",
   "execution_count": 16,
   "metadata": {},
   "outputs": [],
   "source": [
    "def train_gan():\n",
    "    \"\"\" \n",
    "    Multi-line documentation for train_gan()\n",
    "    \"\"\"\n",
    "    history = []\n",
    "    rows    = 3\n",
    "    columns = 4\n",
    "    plot_epochs = [0, 1, 2, 3, 4, 5, 6, 7, 8, 9, 10, 13]\n",
    "    plot_number = 0\n",
    "    number_of_epochs = 12                                   # Originally 21\n",
    "    \n",
    "    np.random.seed(random_seed)\n",
    "    real_data = get_real_data()\n",
    "    (generator, discriminator, gan) = get_models()\n",
    "    pre_train_discriminator(discriminator, generator, real_data)\n",
    "\n",
    "    fig = plt.figure(figsize=(10, 8))\n",
    "    \n",
    "    for epoch in range(number_of_epochs):\n",
    "        train_data = train_gan_one_epoch(gan, generator, discriminator, real_data)\n",
    "        history.append(train_data)\n",
    "        \n",
    "        # Only plot a subset of the epochs -- ie those found in the plot_epochs list\n",
    "        if epoch in plot_epochs:\n",
    "            plt.subplot(rows, columns, plot_number+1)\n",
    "            plot_fake_and_real_data(fig, real_data, generator)\n",
    "            ax = fig.gca()\n",
    "            ax.set_xlim(-1, 14)\n",
    "            ax.set_ylim(-1, 16)\n",
    "            plt.title('Epoch '+ str(epoch))\n",
    "            plot_number += 1\n",
    "    \n",
    "    plt.tight_layout()\n",
    "    \n",
    "    file_helper.save_figure('GAN-2D-learn-plots')\n",
    "    \n",
    "    plt.show()\n",
    "    \n",
    "    return np.array(history)"
   ]
  },
  {
   "cell_type": "code",
   "execution_count": 20,
   "metadata": {},
   "outputs": [],
   "source": [
    "def draw_loss_plots(history):\n",
    "    \"\"\" \n",
    "    Multi-line documentation for draw_loss_plots()\n",
    "    \"\"\"\n",
    "    # Clear the current figure and set the figure size.\n",
    "    plt.clf()\n",
    "    fig = plt.figure(figsize = (8,6))\n",
    "    \n",
    "    # Set line colors (green for Generator loss and purple for Discriminator loss), line widths, and labels.\n",
    "    plt.plot(history[:,0], c = '#008800', linewidth = 2, label = 'generator loss')\n",
    "    plt.plot(history[:,1], c = '#aa00aa', linewidth = 2, label = 'discriminator loss')\n",
    "    \n",
    "    # Create a small legend box with shadow in the upper right hand corner.\n",
    "    ax = plt.gca()\n",
    "    ax.legend(loc = 'upper right', shadow = True)\n",
    "    \n",
    "    file_helper.save_figure('GAN-2D-learn-history')\n",
    "    \n",
    "    plt.show()"
   ]
  },
  {
   "cell_type": "code",
   "execution_count": 18,
   "metadata": {},
   "outputs": [],
   "source": [
    "import tensorflow as tf\n",
    "\n",
    "# The following code stops the \"Optimization loop failed: Cancelled: Operation was cancelled\" message from displaying when\n",
    "# the next code block is executed.  Without it, the display is filled with thousands of these messages.  The TensorFlow forum\n",
    "# thread on this topic does not provide a solution.  A couple posts in Chinese, however, get us to this solution which works,\n",
    "# though no contextual information is provided.\n",
    "\n",
    "devices = tf.config.experimental.list_physical_devices('GPU')\n",
    "\n",
    "tf.config.experimental.set_memory_growth(devices[0], True)\n",
    "\n",
    "# Turn off TensorFlow warning messages.\n",
    "os.environ['TF_CPP_MIN_LOG_LEVEL'] = '3'"
   ]
  },
  {
   "cell_type": "code",
   "execution_count": 19,
   "metadata": {},
   "outputs": [
    {
     "data": {
      "image/png": "[encoded data removed]",
      "text/plain": [
       "<Figure size 720x576 with 2 Axes>"
      ]
     },
     "metadata": {
      "needs_background": "light"
     },
     "output_type": "display_data"
    },
    {
     "data": {
      "text/plain": [
       "<Figure size 432x288 with 0 Axes>"
      ]
     },
     "metadata": {},
     "output_type": "display_data"
    },
    {
     "data": {
      "image/png": "[encoded data removed]",
      "text/plain": [
       "<Figure size 576x432 with 1 Axes>"
      ]
     },
     "metadata": {
      "needs_background": "light"
     },
     "output_type": "display_data"
    }
   ],
   "source": [
    "history = train_gan()\n",
    "draw_loss_plots(history)"
   ]
  },
  {
   "cell_type": "markdown",
   "metadata": {},
   "source": [
    "## Assignment"
   ]
  },
  {
   "cell_type": "markdown",
   "metadata": {},
   "source": [
    "Document the structure of this program here..."
   ]
  },
  {
   "cell_type": "markdown",
   "metadata": {
    "jupyter": {
     "source_hidden": true
    },
    "tags": []
   },
   "source": [
    "train_gain()\n",
    "\tget_real_data()\n",
    "\tget_models()\n",
    "\t\tmake_generator()\n",
    "\t\tmake_discriminator()\n",
    "\t\tmake_gan()\n",
    "\tpre_train_discriminator()\n",
    "\t  \tget_batch_of_normal_noise()\n",
    "\tfor epoch loop\n",
    "\t  \ttrain_gan_one_epoch()\n",
    "\t\t\tfor batch loop\n",
    "\t\t    \t\ttrain_discriminator()\n",
    "\t\t    \t\ttrain_generator()\n",
    "\t\t\t\t\tget_batch_of_normal_noise()\n",
    "\t \tplot_fake_and_real_data()\n",
    "\t \t\tget_batch_of_normal_noise()\n",
    "draw_loss_plots()\n"
   ]
  },
  {
   "cell_type": "markdown",
   "metadata": {},
   "source": [
    "***\n",
    "\n",
    "### Copyright \n",
    "\n",
    "<small>\n",
    "Copyright (c) 2017-21 Andrew Glassner\n",
    "\n",
    "Permission is hereby granted, free of charge, to any person obtaining a copy of this software and associated documentation files (the \"Software\"), to deal in the Software without restriction, including without limitation the rights to use, copy, modify, merge, publish, distribute, sublicense, and/or sell copies of the Software, and to permit persons to whom the Software is furnished to do so, subject to the following conditions:\n",
    "\n",
    "The above copyright notice and this permission notice shall be included in all copies or substantial portions of the Software.\n",
    "\n",
    "THE SOFTWARE IS PROVIDED \"AS IS\", WITHOUT WARRANTY OF ANY KIND, EXPRESS OR IMPLIED, INCLUDING BUT NOT LIMITED TO THE WARRANTIES OF MERCHANTABILITY, FITNESS FOR A PARTICULAR PURPOSE AND NONINFRINGEMENT. IN NO EVENT SHALL THE AUTHORS OR COPYRIGHT HOLDERS BE LIABLE FOR ANY CLAIM, DAMAGES OR OTHER LIABILITY, WHETHER IN AN ACTION OF CONTRACT, TORT OR OTHERWISE, ARISING FROM, OUT OF OR IN CONNECTION WITH THE SOFTWARE OR THE USE OR OTHER DEALINGS IN THE SOFTWARE.\n",
    "</small>\n",
    "\n",
    "### What's in this notebook\n",
    "\n",
    "This notebook is provided as a “behind-the-scenes” look at code used to make some of the figures in this chapter. It is cleaned up a bit from the original code that I hacked together, and is only lightly commented. I wrote the code to be easy to interpret and understand, even for those who are new to Python. I tried never to be clever or even more efficient at the cost of being harder to understand. The code is in Python3, using the versions of libraries as of April 2021. \n",
    "\n",
    "This notebook may contain additional code to create models and images not in the book. That material is included here to demonstrate additional techniques.\n",
    "\n",
    "Note that I've included the output cells in this saved notebook, but Jupyter doesn't save the variables or data that were used to generate them. To recreate any cell's output, evaluate all the cells from the start up to that cell. A convenient way to experiment is to first choose \"Restart & Run All\" from the Kernel menu, so that everything's been defined and is up to date. Then you can experiment using the variables, data, functions, and other stuff defined in this notebook."
   ]
  }
 ],
 "metadata": {
  "kernelspec": {
   "display_name": "Tensorflow-2.6.0",
   "language": "python",
   "name": "tensorflow-2.6.0"
  },
  "language_info": {
   "codemirror_mode": {
    "name": "ipython",
    "version": 3
   },
   "file_extension": ".py",
   "mimetype": "text/x-python",
   "name": "python",
   "nbconvert_exporter": "python",
   "pygments_lexer": "ipython3",
   "version": "3.9.7"
  }
 },
 "nbformat": 4,
 "nbformat_minor": 4
}
